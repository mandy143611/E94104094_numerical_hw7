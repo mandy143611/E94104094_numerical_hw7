{
 "cells": [
  {
   "cell_type": "code",
   "execution_count": 1,
   "id": "ff2da97c",
   "metadata": {},
   "outputs": [
    {
     "name": "stdout",
     "output_type": "stream",
     "text": [
      "Jacobi: [1.1747883  1.64317298 2.44824825 3.05598016 3.94965738 3.09947604]\n",
      "Gauss-Seidel: [1.17478836 1.64317351 2.44824812 3.05598056 3.94965762 3.09947644]\n",
      "SOR (ω=1.25): [1.17478873 1.6431735  2.44824802 3.05598063 3.94965756 3.0994764 ]\n",
      "Conjugate Gradient: [1.17656665 1.64269366 2.44433267 3.06002082 3.95260785 3.09922059]\n"
     ]
    }
   ],
   "source": [
    "import numpy as np\n",
    "\n",
    "def jacobi(A, b, x0, tol=1e-6, max_iter=1000):\n",
    "    D = np.diag(np.diag(A))\n",
    "    R = A - D\n",
    "    D_inv = np.linalg.inv(D)\n",
    "\n",
    "    x = x0.copy()\n",
    "    for i in range(max_iter):\n",
    "        x_new = D_inv @ (b - R @ x)\n",
    "        if np.linalg.norm(x_new - x, ord=np.inf) < tol:\n",
    "            return x_new\n",
    "        x = x_new\n",
    "    return x\n",
    "def gauss_seidel(A, b, x0, tol=1e-6, max_iter=1000):\n",
    "    x = x0.copy()\n",
    "    n = len(x)\n",
    "    for it in range(max_iter):\n",
    "        x_new = x.copy()\n",
    "        for i in range(n):\n",
    "            s1 = sum(A[i][j] * x_new[j] for j in range(i))\n",
    "            s2 = sum(A[i][j] * x[j] for j in range(i + 1, n))\n",
    "            x_new[i] = (b[i] - s1 - s2) / A[i][i]\n",
    "        if np.linalg.norm(x_new - x, ord=np.inf) < tol:\n",
    "            return x_new\n",
    "        x = x_new\n",
    "    return x\n",
    "def sor(A, b, x0, omega=1.25, tol=1e-6, max_iter=1000):\n",
    "    x = x0.copy()\n",
    "    n = len(x)\n",
    "    for it in range(max_iter):\n",
    "        x_new = x.copy()\n",
    "        for i in range(n):\n",
    "            s1 = sum(A[i][j] * x_new[j] for j in range(i))\n",
    "            s2 = sum(A[i][j] * x[j] for j in range(i + 1, n))\n",
    "            x_new[i] = x[i] + omega * ((b[i] - s1 - s2) / A[i][i] - x[i])\n",
    "        if np.linalg.norm(x_new - x, ord=np.inf) < tol:\n",
    "            return x_new\n",
    "        x = x_new\n",
    "    return x\n",
    "def conjugate_gradient(A, b, x0, tol=1e-6, max_iter=1000):\n",
    "    x = x0.copy()\n",
    "    r = b - A @ x\n",
    "    p = r.copy()\n",
    "    rs_old = np.dot(r, r)\n",
    "\n",
    "    for i in range(max_iter):\n",
    "        Ap = A @ p\n",
    "        alpha = rs_old / np.dot(p, Ap)\n",
    "        x += alpha * p\n",
    "        r -= alpha * Ap\n",
    "        rs_new = np.dot(r, r)\n",
    "        if np.sqrt(rs_new) < tol:\n",
    "            return x\n",
    "        p = r + (rs_new / rs_old) * p\n",
    "        rs_old = rs_new\n",
    "    return x\n",
    "A = np.array([\n",
    "    [4, -1, 0, -1, 0, 0],\n",
    "    [-1, 4, -1, 0, -1, 0],\n",
    "    [0, -1, 4, 0, 1, -1],\n",
    "    [-1, 0, 0, 4, -1, -1],\n",
    "    [0, -1, 0, -1, 4, -1],\n",
    "    [0, 0, -1, 0, -1, 4]\n",
    "], dtype=float)\n",
    "\n",
    "b = np.array([0, -1, 9, 4, 8, 6], dtype=float)\n",
    "x0 = np.zeros(6)\n",
    "\n",
    "print(\"Jacobi:\", jacobi(A, b, x0))\n",
    "print(\"Gauss-Seidel:\", gauss_seidel(A, b, x0))\n",
    "print(\"SOR (ω=1.25):\", sor(A, b, x0, omega=1.25))\n",
    "print(\"Conjugate Gradient:\", conjugate_gradient(A, b, x0))\n"
   ]
  },
  {
   "cell_type": "code",
   "execution_count": null,
   "id": "75a2f0ff",
   "metadata": {},
   "outputs": [],
   "source": []
  }
 ],
 "metadata": {
  "kernelspec": {
   "display_name": "Python 3 (ipykernel)",
   "language": "python",
   "name": "python3"
  },
  "language_info": {
   "codemirror_mode": {
    "name": "ipython",
    "version": 3
   },
   "file_extension": ".py",
   "mimetype": "text/x-python",
   "name": "python",
   "nbconvert_exporter": "python",
   "pygments_lexer": "ipython3",
   "version": "3.9.12"
  }
 },
 "nbformat": 4,
 "nbformat_minor": 5
}
